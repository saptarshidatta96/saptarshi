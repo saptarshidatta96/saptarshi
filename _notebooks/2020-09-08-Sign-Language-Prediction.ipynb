{
  "nbformat": 4,
  "nbformat_minor": 0,
  "metadata": {
    "colab": {
      "name": "Sign Language Digits.ipynb",
      "provenance": [],
      "collapsed_sections": []
    },
    "kernelspec": {
      "name": "python3",
      "display_name": "Python 3"
    }
  },
  "cells": [
    {
      "cell_type": "markdown",
      "metadata": {
        "id": "7HqSgXc1T3aW"
      },
      "source": [
        "# Sign Language Prediction with MobileNet - Code"
      ]
    },
    {
      "cell_type": "code",
      "metadata": {
        "id": "Ucpdzq1zTWFm",
        "outputId": "03c3837d-5474-4aa1-c789-771c528bd15e",
        "colab": {
          "base_uri": "https://localhost:8080/",
          "height": 122
        }
      },
      "source": [
        "from google.colab import drive\n",
        "drive.mount('/content/gdrive')"
      ],
      "execution_count": null,
      "outputs": [
        {
          "output_type": "stream",
          "text": [
            "Go to this URL in a browser: https://accounts.google.com/o/oauth2/auth?client_id=947318989803-6bn6qk8qdgf4n4g3pfee6491hc0brc4i.apps.googleusercontent.com&redirect_uri=urn%3aietf%3awg%3aoauth%3a2.0%3aoob&scope=email%20https%3a%2f%2fwww.googleapis.com%2fauth%2fdocs.test%20https%3a%2f%2fwww.googleapis.com%2fauth%2fdrive%20https%3a%2f%2fwww.googleapis.com%2fauth%2fdrive.photos.readonly%20https%3a%2f%2fwww.googleapis.com%2fauth%2fpeopleapi.readonly&response_type=code\n",
            "\n",
            "Enter your authorization code:\n",
            "··········\n",
            "Mounted at /content/gdrive\n"
          ],
          "name": "stdout"
        }
      ]
    },
    {
      "cell_type": "code",
      "metadata": {
        "id": "gtOXHjtsXSpF"
      },
      "source": [
        "import numpy as np\n",
        "import tensorflow as tf\n",
        "from tensorflow import keras\n",
        "from tensorflow.keras.layers import Dense, Activation\n",
        "from tensorflow.keras.optimizers import Adam\n",
        "from tensorflow.keras.metrics import categorical_crossentropy\n",
        "from tensorflow.keras.preprocessing.image import ImageDataGenerator\n",
        "from tensorflow.keras.preprocessing import image\n",
        "from tensorflow.keras.models import Model\n",
        "from tensorflow.keras.applications import imagenet_utils\n",
        "from sklearn.metrics import confusion_matrix\n",
        "import itertools\n",
        "import os\n",
        "import shutil\n",
        "import random\n",
        "import matplotlib.pyplot as plt\n",
        "%matplotlib inline"
      ],
      "execution_count": null,
      "outputs": []
    },
    {
      "cell_type": "markdown",
      "metadata": {
        "id": "3H_V6T5aF7Oa"
      },
      "source": [
        "#Data Preparation"
      ]
    },
    {
      "cell_type": "markdown",
      "metadata": {
        "id": "zVDApVBvFtZj"
      },
      "source": [
        "See the associated blog for more description regarding this."
      ]
    },
    {
      "cell_type": "code",
      "metadata": {
        "id": "z4arbXNsaVxh"
      },
      "source": [
        "os.chdir('/content/gdrive/My Drive/Sign-Language-Digits-Dataset/Dataset')\n",
        "if os.path.isdir('train/0/') is False: \n",
        "    os.mkdir('train')\n",
        "    os.mkdir('valid')\n",
        "    os.mkdir('test')\n",
        "\n",
        "    for i in range(0, 10):\n",
        "        shutil.move(f'{i}', 'train')\n",
        "        os.mkdir(f'valid/{i}')\n",
        "        os.mkdir(f'test/{i}')\n",
        "\n",
        "        valid_samples = random.sample(os.listdir(f'train/{i}'), 30)\n",
        "        for j in valid_samples:\n",
        "            shutil.move(f'train/{i}/{j}', f'valid/{i}')\n",
        "\n",
        "        test_samples = random.sample(os.listdir(f'train/{i}'), 5)\n",
        "        for k in test_samples:\n",
        "            shutil.move(f'train/{i}/{k}', f'test/{i}')\n",
        "\n",
        "os.chdir('../..')"
      ],
      "execution_count": null,
      "outputs": []
    },
    {
      "cell_type": "code",
      "metadata": {
        "id": "m0FZt9iE8FoX"
      },
      "source": [
        "for i in range(0, 10):\n",
        "    assert len(os.listdir(f'/content/gdrive/My Drive/Sign-Language-Digits-Dataset/Dataset/valid/{i}')) == 30\n",
        "    assert len(os.listdir(f'/content/gdrive/My Drive/Sign-Language-Digits-Dataset/Dataset/test/{i}')) == 5"
      ],
      "execution_count": null,
      "outputs": []
    },
    {
      "cell_type": "code",
      "metadata": {
        "id": "2xOQRxgK8Y1z"
      },
      "source": [
        "train_path = '/content/gdrive/My Drive/Sign-Language-Digits-Dataset/Dataset/train'\n",
        "valid_path = '/content/gdrive/My Drive/Sign-Language-Digits-Dataset/Dataset/valid'\n",
        "test_path = '/content/gdrive/My Drive/Sign-Language-Digits-Dataset/Dataset/test'"
      ],
      "execution_count": null,
      "outputs": []
    },
    {
      "cell_type": "code",
      "metadata": {
        "id": "WNl5_Y2F_jBe",
        "outputId": "df0367ef-741a-42e4-a75d-d6e543e6f243",
        "colab": {
          "base_uri": "https://localhost:8080/",
          "height": 68
        }
      },
      "source": [
        "train_batches = ImageDataGenerator(preprocessing_function=tf.keras.applications.mobilenet.preprocess_input).flow_from_directory(\n",
        "    directory=train_path, target_size=(224,224), batch_size=10)\n",
        "valid_batches = ImageDataGenerator(preprocessing_function=tf.keras.applications.mobilenet.preprocess_input).flow_from_directory(\n",
        "    directory=valid_path, target_size=(224,224), batch_size=10)\n",
        "test_batches = ImageDataGenerator(preprocessing_function=tf.keras.applications.mobilenet.preprocess_input).flow_from_directory(\n",
        "    directory=test_path, target_size=(224,224), batch_size=10, shuffle=False)"
      ],
      "execution_count": null,
      "outputs": [
        {
          "output_type": "stream",
          "text": [
            "Found 1712 images belonging to 10 classes.\n",
            "Found 300 images belonging to 10 classes.\n",
            "Found 50 images belonging to 10 classes.\n"
          ],
          "name": "stdout"
        }
      ]
    },
    {
      "cell_type": "markdown",
      "metadata": {
        "id": "GIMg9Pq8GCDb"
      },
      "source": [
        "#Model Import, Transfer Learning and Training\n",
        "Imporing Mobile Net"
      ]
    },
    {
      "cell_type": "code",
      "metadata": {
        "id": "n2q0jKxO8l3M",
        "outputId": "9f503f21-e958-41b9-dc33-3fb677513980",
        "colab": {
          "base_uri": "https://localhost:8080/",
          "height": 51
        }
      },
      "source": [
        "mobile = tf.keras.applications.mobilenet.MobileNet()"
      ],
      "execution_count": null,
      "outputs": [
        {
          "output_type": "stream",
          "text": [
            "Downloading data from https://storage.googleapis.com/tensorflow/keras-applications/mobilenet/mobilenet_1_0_224_tf.h5\n",
            "17227776/17225924 [==============================] - 0s 0us/step\n"
          ],
          "name": "stdout"
        }
      ]
    },
    {
      "cell_type": "code",
      "metadata": {
        "id": "YLSNS9ol8quk",
        "outputId": "55429466-0db6-47a5-9fa9-b0324b42300b",
        "colab": {
          "base_uri": "https://localhost:8080/",
          "height": 1000
        }
      },
      "source": [
        "mobile.summary()"
      ],
      "execution_count": null,
      "outputs": [
        {
          "output_type": "stream",
          "text": [
            "Model: \"mobilenet_1.00_224\"\n",
            "_________________________________________________________________\n",
            "Layer (type)                 Output Shape              Param #   \n",
            "=================================================================\n",
            "input_1 (InputLayer)         [(None, 224, 224, 3)]     0         \n",
            "_________________________________________________________________\n",
            "conv1_pad (ZeroPadding2D)    (None, 225, 225, 3)       0         \n",
            "_________________________________________________________________\n",
            "conv1 (Conv2D)               (None, 112, 112, 32)      864       \n",
            "_________________________________________________________________\n",
            "conv1_bn (BatchNormalization (None, 112, 112, 32)      128       \n",
            "_________________________________________________________________\n",
            "conv1_relu (ReLU)            (None, 112, 112, 32)      0         \n",
            "_________________________________________________________________\n",
            "conv_dw_1 (DepthwiseConv2D)  (None, 112, 112, 32)      288       \n",
            "_________________________________________________________________\n",
            "conv_dw_1_bn (BatchNormaliza (None, 112, 112, 32)      128       \n",
            "_________________________________________________________________\n",
            "conv_dw_1_relu (ReLU)        (None, 112, 112, 32)      0         \n",
            "_________________________________________________________________\n",
            "conv_pw_1 (Conv2D)           (None, 112, 112, 64)      2048      \n",
            "_________________________________________________________________\n",
            "conv_pw_1_bn (BatchNormaliza (None, 112, 112, 64)      256       \n",
            "_________________________________________________________________\n",
            "conv_pw_1_relu (ReLU)        (None, 112, 112, 64)      0         \n",
            "_________________________________________________________________\n",
            "conv_pad_2 (ZeroPadding2D)   (None, 113, 113, 64)      0         \n",
            "_________________________________________________________________\n",
            "conv_dw_2 (DepthwiseConv2D)  (None, 56, 56, 64)        576       \n",
            "_________________________________________________________________\n",
            "conv_dw_2_bn (BatchNormaliza (None, 56, 56, 64)        256       \n",
            "_________________________________________________________________\n",
            "conv_dw_2_relu (ReLU)        (None, 56, 56, 64)        0         \n",
            "_________________________________________________________________\n",
            "conv_pw_2 (Conv2D)           (None, 56, 56, 128)       8192      \n",
            "_________________________________________________________________\n",
            "conv_pw_2_bn (BatchNormaliza (None, 56, 56, 128)       512       \n",
            "_________________________________________________________________\n",
            "conv_pw_2_relu (ReLU)        (None, 56, 56, 128)       0         \n",
            "_________________________________________________________________\n",
            "conv_dw_3 (DepthwiseConv2D)  (None, 56, 56, 128)       1152      \n",
            "_________________________________________________________________\n",
            "conv_dw_3_bn (BatchNormaliza (None, 56, 56, 128)       512       \n",
            "_________________________________________________________________\n",
            "conv_dw_3_relu (ReLU)        (None, 56, 56, 128)       0         \n",
            "_________________________________________________________________\n",
            "conv_pw_3 (Conv2D)           (None, 56, 56, 128)       16384     \n",
            "_________________________________________________________________\n",
            "conv_pw_3_bn (BatchNormaliza (None, 56, 56, 128)       512       \n",
            "_________________________________________________________________\n",
            "conv_pw_3_relu (ReLU)        (None, 56, 56, 128)       0         \n",
            "_________________________________________________________________\n",
            "conv_pad_4 (ZeroPadding2D)   (None, 57, 57, 128)       0         \n",
            "_________________________________________________________________\n",
            "conv_dw_4 (DepthwiseConv2D)  (None, 28, 28, 128)       1152      \n",
            "_________________________________________________________________\n",
            "conv_dw_4_bn (BatchNormaliza (None, 28, 28, 128)       512       \n",
            "_________________________________________________________________\n",
            "conv_dw_4_relu (ReLU)        (None, 28, 28, 128)       0         \n",
            "_________________________________________________________________\n",
            "conv_pw_4 (Conv2D)           (None, 28, 28, 256)       32768     \n",
            "_________________________________________________________________\n",
            "conv_pw_4_bn (BatchNormaliza (None, 28, 28, 256)       1024      \n",
            "_________________________________________________________________\n",
            "conv_pw_4_relu (ReLU)        (None, 28, 28, 256)       0         \n",
            "_________________________________________________________________\n",
            "conv_dw_5 (DepthwiseConv2D)  (None, 28, 28, 256)       2304      \n",
            "_________________________________________________________________\n",
            "conv_dw_5_bn (BatchNormaliza (None, 28, 28, 256)       1024      \n",
            "_________________________________________________________________\n",
            "conv_dw_5_relu (ReLU)        (None, 28, 28, 256)       0         \n",
            "_________________________________________________________________\n",
            "conv_pw_5 (Conv2D)           (None, 28, 28, 256)       65536     \n",
            "_________________________________________________________________\n",
            "conv_pw_5_bn (BatchNormaliza (None, 28, 28, 256)       1024      \n",
            "_________________________________________________________________\n",
            "conv_pw_5_relu (ReLU)        (None, 28, 28, 256)       0         \n",
            "_________________________________________________________________\n",
            "conv_pad_6 (ZeroPadding2D)   (None, 29, 29, 256)       0         \n",
            "_________________________________________________________________\n",
            "conv_dw_6 (DepthwiseConv2D)  (None, 14, 14, 256)       2304      \n",
            "_________________________________________________________________\n",
            "conv_dw_6_bn (BatchNormaliza (None, 14, 14, 256)       1024      \n",
            "_________________________________________________________________\n",
            "conv_dw_6_relu (ReLU)        (None, 14, 14, 256)       0         \n",
            "_________________________________________________________________\n",
            "conv_pw_6 (Conv2D)           (None, 14, 14, 512)       131072    \n",
            "_________________________________________________________________\n",
            "conv_pw_6_bn (BatchNormaliza (None, 14, 14, 512)       2048      \n",
            "_________________________________________________________________\n",
            "conv_pw_6_relu (ReLU)        (None, 14, 14, 512)       0         \n",
            "_________________________________________________________________\n",
            "conv_dw_7 (DepthwiseConv2D)  (None, 14, 14, 512)       4608      \n",
            "_________________________________________________________________\n",
            "conv_dw_7_bn (BatchNormaliza (None, 14, 14, 512)       2048      \n",
            "_________________________________________________________________\n",
            "conv_dw_7_relu (ReLU)        (None, 14, 14, 512)       0         \n",
            "_________________________________________________________________\n",
            "conv_pw_7 (Conv2D)           (None, 14, 14, 512)       262144    \n",
            "_________________________________________________________________\n",
            "conv_pw_7_bn (BatchNormaliza (None, 14, 14, 512)       2048      \n",
            "_________________________________________________________________\n",
            "conv_pw_7_relu (ReLU)        (None, 14, 14, 512)       0         \n",
            "_________________________________________________________________\n",
            "conv_dw_8 (DepthwiseConv2D)  (None, 14, 14, 512)       4608      \n",
            "_________________________________________________________________\n",
            "conv_dw_8_bn (BatchNormaliza (None, 14, 14, 512)       2048      \n",
            "_________________________________________________________________\n",
            "conv_dw_8_relu (ReLU)        (None, 14, 14, 512)       0         \n",
            "_________________________________________________________________\n",
            "conv_pw_8 (Conv2D)           (None, 14, 14, 512)       262144    \n",
            "_________________________________________________________________\n",
            "conv_pw_8_bn (BatchNormaliza (None, 14, 14, 512)       2048      \n",
            "_________________________________________________________________\n",
            "conv_pw_8_relu (ReLU)        (None, 14, 14, 512)       0         \n",
            "_________________________________________________________________\n",
            "conv_dw_9 (DepthwiseConv2D)  (None, 14, 14, 512)       4608      \n",
            "_________________________________________________________________\n",
            "conv_dw_9_bn (BatchNormaliza (None, 14, 14, 512)       2048      \n",
            "_________________________________________________________________\n",
            "conv_dw_9_relu (ReLU)        (None, 14, 14, 512)       0         \n",
            "_________________________________________________________________\n",
            "conv_pw_9 (Conv2D)           (None, 14, 14, 512)       262144    \n",
            "_________________________________________________________________\n",
            "conv_pw_9_bn (BatchNormaliza (None, 14, 14, 512)       2048      \n",
            "_________________________________________________________________\n",
            "conv_pw_9_relu (ReLU)        (None, 14, 14, 512)       0         \n",
            "_________________________________________________________________\n",
            "conv_dw_10 (DepthwiseConv2D) (None, 14, 14, 512)       4608      \n",
            "_________________________________________________________________\n",
            "conv_dw_10_bn (BatchNormaliz (None, 14, 14, 512)       2048      \n",
            "_________________________________________________________________\n",
            "conv_dw_10_relu (ReLU)       (None, 14, 14, 512)       0         \n",
            "_________________________________________________________________\n",
            "conv_pw_10 (Conv2D)          (None, 14, 14, 512)       262144    \n",
            "_________________________________________________________________\n",
            "conv_pw_10_bn (BatchNormaliz (None, 14, 14, 512)       2048      \n",
            "_________________________________________________________________\n",
            "conv_pw_10_relu (ReLU)       (None, 14, 14, 512)       0         \n",
            "_________________________________________________________________\n",
            "conv_dw_11 (DepthwiseConv2D) (None, 14, 14, 512)       4608      \n",
            "_________________________________________________________________\n",
            "conv_dw_11_bn (BatchNormaliz (None, 14, 14, 512)       2048      \n",
            "_________________________________________________________________\n",
            "conv_dw_11_relu (ReLU)       (None, 14, 14, 512)       0         \n",
            "_________________________________________________________________\n",
            "conv_pw_11 (Conv2D)          (None, 14, 14, 512)       262144    \n",
            "_________________________________________________________________\n",
            "conv_pw_11_bn (BatchNormaliz (None, 14, 14, 512)       2048      \n",
            "_________________________________________________________________\n",
            "conv_pw_11_relu (ReLU)       (None, 14, 14, 512)       0         \n",
            "_________________________________________________________________\n",
            "conv_pad_12 (ZeroPadding2D)  (None, 15, 15, 512)       0         \n",
            "_________________________________________________________________\n",
            "conv_dw_12 (DepthwiseConv2D) (None, 7, 7, 512)         4608      \n",
            "_________________________________________________________________\n",
            "conv_dw_12_bn (BatchNormaliz (None, 7, 7, 512)         2048      \n",
            "_________________________________________________________________\n",
            "conv_dw_12_relu (ReLU)       (None, 7, 7, 512)         0         \n",
            "_________________________________________________________________\n",
            "conv_pw_12 (Conv2D)          (None, 7, 7, 1024)        524288    \n",
            "_________________________________________________________________\n",
            "conv_pw_12_bn (BatchNormaliz (None, 7, 7, 1024)        4096      \n",
            "_________________________________________________________________\n",
            "conv_pw_12_relu (ReLU)       (None, 7, 7, 1024)        0         \n",
            "_________________________________________________________________\n",
            "conv_dw_13 (DepthwiseConv2D) (None, 7, 7, 1024)        9216      \n",
            "_________________________________________________________________\n",
            "conv_dw_13_bn (BatchNormaliz (None, 7, 7, 1024)        4096      \n",
            "_________________________________________________________________\n",
            "conv_dw_13_relu (ReLU)       (None, 7, 7, 1024)        0         \n",
            "_________________________________________________________________\n",
            "conv_pw_13 (Conv2D)          (None, 7, 7, 1024)        1048576   \n",
            "_________________________________________________________________\n",
            "conv_pw_13_bn (BatchNormaliz (None, 7, 7, 1024)        4096      \n",
            "_________________________________________________________________\n",
            "conv_pw_13_relu (ReLU)       (None, 7, 7, 1024)        0         \n",
            "_________________________________________________________________\n",
            "global_average_pooling2d (Gl (None, 1024)              0         \n",
            "_________________________________________________________________\n",
            "reshape_1 (Reshape)          (None, 1, 1, 1024)        0         \n",
            "_________________________________________________________________\n",
            "dropout (Dropout)            (None, 1, 1, 1024)        0         \n",
            "_________________________________________________________________\n",
            "conv_preds (Conv2D)          (None, 1, 1, 1000)        1025000   \n",
            "_________________________________________________________________\n",
            "reshape_2 (Reshape)          (None, 1000)              0         \n",
            "_________________________________________________________________\n",
            "predictions (Activation)     (None, 1000)              0         \n",
            "=================================================================\n",
            "Total params: 4,253,864\n",
            "Trainable params: 4,231,976\n",
            "Non-trainable params: 21,888\n",
            "_________________________________________________________________\n"
          ],
          "name": "stdout"
        }
      ]
    },
    {
      "cell_type": "code",
      "metadata": {
        "id": "nkl1KJSu8v4b"
      },
      "source": [
        "x = mobile.layers[-6].output\n",
        "predictions = Dense(10, activation='softmax')(x)"
      ],
      "execution_count": null,
      "outputs": []
    },
    {
      "cell_type": "code",
      "metadata": {
        "id": "oKQiX7kM83zU"
      },
      "source": [
        "model = Model(inputs=mobile.input, outputs=predictions)"
      ],
      "execution_count": null,
      "outputs": []
    },
    {
      "cell_type": "code",
      "metadata": {
        "id": "INSf3Fe386Ec"
      },
      "source": [
        "for layer in model.layers[:-23]:\n",
        "    layer.trainable = False"
      ],
      "execution_count": null,
      "outputs": []
    },
    {
      "cell_type": "code",
      "metadata": {
        "id": "ZmRQ6xhQ9FFD",
        "outputId": "03e3146f-4d5d-4a1f-9e94-b8707482a30a",
        "colab": {
          "base_uri": "https://localhost:8080/",
          "height": 1000
        }
      },
      "source": [
        "model.summary()"
      ],
      "execution_count": null,
      "outputs": [
        {
          "output_type": "stream",
          "text": [
            "Model: \"functional_1\"\n",
            "_________________________________________________________________\n",
            "Layer (type)                 Output Shape              Param #   \n",
            "=================================================================\n",
            "input_1 (InputLayer)         [(None, 224, 224, 3)]     0         \n",
            "_________________________________________________________________\n",
            "conv1_pad (ZeroPadding2D)    (None, 225, 225, 3)       0         \n",
            "_________________________________________________________________\n",
            "conv1 (Conv2D)               (None, 112, 112, 32)      864       \n",
            "_________________________________________________________________\n",
            "conv1_bn (BatchNormalization (None, 112, 112, 32)      128       \n",
            "_________________________________________________________________\n",
            "conv1_relu (ReLU)            (None, 112, 112, 32)      0         \n",
            "_________________________________________________________________\n",
            "conv_dw_1 (DepthwiseConv2D)  (None, 112, 112, 32)      288       \n",
            "_________________________________________________________________\n",
            "conv_dw_1_bn (BatchNormaliza (None, 112, 112, 32)      128       \n",
            "_________________________________________________________________\n",
            "conv_dw_1_relu (ReLU)        (None, 112, 112, 32)      0         \n",
            "_________________________________________________________________\n",
            "conv_pw_1 (Conv2D)           (None, 112, 112, 64)      2048      \n",
            "_________________________________________________________________\n",
            "conv_pw_1_bn (BatchNormaliza (None, 112, 112, 64)      256       \n",
            "_________________________________________________________________\n",
            "conv_pw_1_relu (ReLU)        (None, 112, 112, 64)      0         \n",
            "_________________________________________________________________\n",
            "conv_pad_2 (ZeroPadding2D)   (None, 113, 113, 64)      0         \n",
            "_________________________________________________________________\n",
            "conv_dw_2 (DepthwiseConv2D)  (None, 56, 56, 64)        576       \n",
            "_________________________________________________________________\n",
            "conv_dw_2_bn (BatchNormaliza (None, 56, 56, 64)        256       \n",
            "_________________________________________________________________\n",
            "conv_dw_2_relu (ReLU)        (None, 56, 56, 64)        0         \n",
            "_________________________________________________________________\n",
            "conv_pw_2 (Conv2D)           (None, 56, 56, 128)       8192      \n",
            "_________________________________________________________________\n",
            "conv_pw_2_bn (BatchNormaliza (None, 56, 56, 128)       512       \n",
            "_________________________________________________________________\n",
            "conv_pw_2_relu (ReLU)        (None, 56, 56, 128)       0         \n",
            "_________________________________________________________________\n",
            "conv_dw_3 (DepthwiseConv2D)  (None, 56, 56, 128)       1152      \n",
            "_________________________________________________________________\n",
            "conv_dw_3_bn (BatchNormaliza (None, 56, 56, 128)       512       \n",
            "_________________________________________________________________\n",
            "conv_dw_3_relu (ReLU)        (None, 56, 56, 128)       0         \n",
            "_________________________________________________________________\n",
            "conv_pw_3 (Conv2D)           (None, 56, 56, 128)       16384     \n",
            "_________________________________________________________________\n",
            "conv_pw_3_bn (BatchNormaliza (None, 56, 56, 128)       512       \n",
            "_________________________________________________________________\n",
            "conv_pw_3_relu (ReLU)        (None, 56, 56, 128)       0         \n",
            "_________________________________________________________________\n",
            "conv_pad_4 (ZeroPadding2D)   (None, 57, 57, 128)       0         \n",
            "_________________________________________________________________\n",
            "conv_dw_4 (DepthwiseConv2D)  (None, 28, 28, 128)       1152      \n",
            "_________________________________________________________________\n",
            "conv_dw_4_bn (BatchNormaliza (None, 28, 28, 128)       512       \n",
            "_________________________________________________________________\n",
            "conv_dw_4_relu (ReLU)        (None, 28, 28, 128)       0         \n",
            "_________________________________________________________________\n",
            "conv_pw_4 (Conv2D)           (None, 28, 28, 256)       32768     \n",
            "_________________________________________________________________\n",
            "conv_pw_4_bn (BatchNormaliza (None, 28, 28, 256)       1024      \n",
            "_________________________________________________________________\n",
            "conv_pw_4_relu (ReLU)        (None, 28, 28, 256)       0         \n",
            "_________________________________________________________________\n",
            "conv_dw_5 (DepthwiseConv2D)  (None, 28, 28, 256)       2304      \n",
            "_________________________________________________________________\n",
            "conv_dw_5_bn (BatchNormaliza (None, 28, 28, 256)       1024      \n",
            "_________________________________________________________________\n",
            "conv_dw_5_relu (ReLU)        (None, 28, 28, 256)       0         \n",
            "_________________________________________________________________\n",
            "conv_pw_5 (Conv2D)           (None, 28, 28, 256)       65536     \n",
            "_________________________________________________________________\n",
            "conv_pw_5_bn (BatchNormaliza (None, 28, 28, 256)       1024      \n",
            "_________________________________________________________________\n",
            "conv_pw_5_relu (ReLU)        (None, 28, 28, 256)       0         \n",
            "_________________________________________________________________\n",
            "conv_pad_6 (ZeroPadding2D)   (None, 29, 29, 256)       0         \n",
            "_________________________________________________________________\n",
            "conv_dw_6 (DepthwiseConv2D)  (None, 14, 14, 256)       2304      \n",
            "_________________________________________________________________\n",
            "conv_dw_6_bn (BatchNormaliza (None, 14, 14, 256)       1024      \n",
            "_________________________________________________________________\n",
            "conv_dw_6_relu (ReLU)        (None, 14, 14, 256)       0         \n",
            "_________________________________________________________________\n",
            "conv_pw_6 (Conv2D)           (None, 14, 14, 512)       131072    \n",
            "_________________________________________________________________\n",
            "conv_pw_6_bn (BatchNormaliza (None, 14, 14, 512)       2048      \n",
            "_________________________________________________________________\n",
            "conv_pw_6_relu (ReLU)        (None, 14, 14, 512)       0         \n",
            "_________________________________________________________________\n",
            "conv_dw_7 (DepthwiseConv2D)  (None, 14, 14, 512)       4608      \n",
            "_________________________________________________________________\n",
            "conv_dw_7_bn (BatchNormaliza (None, 14, 14, 512)       2048      \n",
            "_________________________________________________________________\n",
            "conv_dw_7_relu (ReLU)        (None, 14, 14, 512)       0         \n",
            "_________________________________________________________________\n",
            "conv_pw_7 (Conv2D)           (None, 14, 14, 512)       262144    \n",
            "_________________________________________________________________\n",
            "conv_pw_7_bn (BatchNormaliza (None, 14, 14, 512)       2048      \n",
            "_________________________________________________________________\n",
            "conv_pw_7_relu (ReLU)        (None, 14, 14, 512)       0         \n",
            "_________________________________________________________________\n",
            "conv_dw_8 (DepthwiseConv2D)  (None, 14, 14, 512)       4608      \n",
            "_________________________________________________________________\n",
            "conv_dw_8_bn (BatchNormaliza (None, 14, 14, 512)       2048      \n",
            "_________________________________________________________________\n",
            "conv_dw_8_relu (ReLU)        (None, 14, 14, 512)       0         \n",
            "_________________________________________________________________\n",
            "conv_pw_8 (Conv2D)           (None, 14, 14, 512)       262144    \n",
            "_________________________________________________________________\n",
            "conv_pw_8_bn (BatchNormaliza (None, 14, 14, 512)       2048      \n",
            "_________________________________________________________________\n",
            "conv_pw_8_relu (ReLU)        (None, 14, 14, 512)       0         \n",
            "_________________________________________________________________\n",
            "conv_dw_9 (DepthwiseConv2D)  (None, 14, 14, 512)       4608      \n",
            "_________________________________________________________________\n",
            "conv_dw_9_bn (BatchNormaliza (None, 14, 14, 512)       2048      \n",
            "_________________________________________________________________\n",
            "conv_dw_9_relu (ReLU)        (None, 14, 14, 512)       0         \n",
            "_________________________________________________________________\n",
            "conv_pw_9 (Conv2D)           (None, 14, 14, 512)       262144    \n",
            "_________________________________________________________________\n",
            "conv_pw_9_bn (BatchNormaliza (None, 14, 14, 512)       2048      \n",
            "_________________________________________________________________\n",
            "conv_pw_9_relu (ReLU)        (None, 14, 14, 512)       0         \n",
            "_________________________________________________________________\n",
            "conv_dw_10 (DepthwiseConv2D) (None, 14, 14, 512)       4608      \n",
            "_________________________________________________________________\n",
            "conv_dw_10_bn (BatchNormaliz (None, 14, 14, 512)       2048      \n",
            "_________________________________________________________________\n",
            "conv_dw_10_relu (ReLU)       (None, 14, 14, 512)       0         \n",
            "_________________________________________________________________\n",
            "conv_pw_10 (Conv2D)          (None, 14, 14, 512)       262144    \n",
            "_________________________________________________________________\n",
            "conv_pw_10_bn (BatchNormaliz (None, 14, 14, 512)       2048      \n",
            "_________________________________________________________________\n",
            "conv_pw_10_relu (ReLU)       (None, 14, 14, 512)       0         \n",
            "_________________________________________________________________\n",
            "conv_dw_11 (DepthwiseConv2D) (None, 14, 14, 512)       4608      \n",
            "_________________________________________________________________\n",
            "conv_dw_11_bn (BatchNormaliz (None, 14, 14, 512)       2048      \n",
            "_________________________________________________________________\n",
            "conv_dw_11_relu (ReLU)       (None, 14, 14, 512)       0         \n",
            "_________________________________________________________________\n",
            "conv_pw_11 (Conv2D)          (None, 14, 14, 512)       262144    \n",
            "_________________________________________________________________\n",
            "conv_pw_11_bn (BatchNormaliz (None, 14, 14, 512)       2048      \n",
            "_________________________________________________________________\n",
            "conv_pw_11_relu (ReLU)       (None, 14, 14, 512)       0         \n",
            "_________________________________________________________________\n",
            "conv_pad_12 (ZeroPadding2D)  (None, 15, 15, 512)       0         \n",
            "_________________________________________________________________\n",
            "conv_dw_12 (DepthwiseConv2D) (None, 7, 7, 512)         4608      \n",
            "_________________________________________________________________\n",
            "conv_dw_12_bn (BatchNormaliz (None, 7, 7, 512)         2048      \n",
            "_________________________________________________________________\n",
            "conv_dw_12_relu (ReLU)       (None, 7, 7, 512)         0         \n",
            "_________________________________________________________________\n",
            "conv_pw_12 (Conv2D)          (None, 7, 7, 1024)        524288    \n",
            "_________________________________________________________________\n",
            "conv_pw_12_bn (BatchNormaliz (None, 7, 7, 1024)        4096      \n",
            "_________________________________________________________________\n",
            "conv_pw_12_relu (ReLU)       (None, 7, 7, 1024)        0         \n",
            "_________________________________________________________________\n",
            "conv_dw_13 (DepthwiseConv2D) (None, 7, 7, 1024)        9216      \n",
            "_________________________________________________________________\n",
            "conv_dw_13_bn (BatchNormaliz (None, 7, 7, 1024)        4096      \n",
            "_________________________________________________________________\n",
            "conv_dw_13_relu (ReLU)       (None, 7, 7, 1024)        0         \n",
            "_________________________________________________________________\n",
            "conv_pw_13 (Conv2D)          (None, 7, 7, 1024)        1048576   \n",
            "_________________________________________________________________\n",
            "conv_pw_13_bn (BatchNormaliz (None, 7, 7, 1024)        4096      \n",
            "_________________________________________________________________\n",
            "conv_pw_13_relu (ReLU)       (None, 7, 7, 1024)        0         \n",
            "_________________________________________________________________\n",
            "global_average_pooling2d (Gl (None, 1024)              0         \n",
            "_________________________________________________________________\n",
            "dense (Dense)                (None, 10)                10250     \n",
            "=================================================================\n",
            "Total params: 3,239,114\n",
            "Trainable params: 1,873,930\n",
            "Non-trainable params: 1,365,184\n",
            "_________________________________________________________________\n"
          ],
          "name": "stdout"
        }
      ]
    },
    {
      "cell_type": "code",
      "metadata": {
        "id": "HUUfhDBH-ysE"
      },
      "source": [
        "model.compile(optimizer=Adam(lr=0.0001), loss='categorical_crossentropy', metrics=['accuracy'])"
      ],
      "execution_count": null,
      "outputs": []
    },
    {
      "cell_type": "markdown",
      "metadata": {
        "id": "R46kx-JcGTsT"
      },
      "source": [
        "Training"
      ]
    },
    {
      "cell_type": "code",
      "metadata": {
        "id": "8HGZvo_u-0el",
        "outputId": "f1faebcb-3d72-4a12-9a36-837c52668e64",
        "colab": {
          "base_uri": "https://localhost:8080/",
          "height": 1000
        }
      },
      "source": [
        "# Run for more epochs (~60) to see better results\n",
        "model.fit(x=train_batches, steps_per_epoch=18, validation_data=valid_batches, validation_steps=3, epochs=30, verbose=2)"
      ],
      "execution_count": null,
      "outputs": [
        {
          "output_type": "stream",
          "text": [
            "Epoch 1/30\n",
            "18/18 - 31s - loss: 0.3288 - accuracy: 0.9302 - val_loss: 0.8580 - val_accuracy: 0.7000\n",
            "Epoch 2/30\n",
            "18/18 - 29s - loss: 0.2942 - accuracy: 0.9333 - val_loss: 0.6755 - val_accuracy: 0.7000\n",
            "Epoch 3/30\n",
            "18/18 - 21s - loss: 0.2280 - accuracy: 0.9477 - val_loss: 0.4676 - val_accuracy: 0.8000\n",
            "Epoch 4/30\n",
            "18/18 - 21s - loss: 0.2050 - accuracy: 0.9722 - val_loss: 0.4056 - val_accuracy: 0.7667\n",
            "Epoch 5/30\n",
            "18/18 - 19s - loss: 0.2673 - accuracy: 0.9611 - val_loss: 0.3198 - val_accuracy: 0.9667\n",
            "Epoch 6/30\n",
            "18/18 - 17s - loss: 0.1734 - accuracy: 0.9667 - val_loss: 0.0908 - val_accuracy: 1.0000\n",
            "Epoch 7/30\n",
            "18/18 - 13s - loss: 0.1649 - accuracy: 0.9500 - val_loss: 0.2169 - val_accuracy: 0.9333\n",
            "Epoch 8/30\n",
            "18/18 - 13s - loss: 0.1673 - accuracy: 0.9722 - val_loss: 0.1466 - val_accuracy: 0.9667\n",
            "Epoch 9/30\n",
            "18/18 - 9s - loss: 0.1392 - accuracy: 0.9667 - val_loss: 0.1384 - val_accuracy: 0.9333\n",
            "Epoch 10/30\n",
            "18/18 - 10s - loss: 0.1067 - accuracy: 0.9833 - val_loss: 0.2402 - val_accuracy: 0.9000\n",
            "Epoch 11/30\n",
            "18/18 - 11s - loss: 0.0944 - accuracy: 0.9889 - val_loss: 0.1494 - val_accuracy: 0.9667\n",
            "Epoch 12/30\n",
            "18/18 - 8s - loss: 0.0845 - accuracy: 1.0000 - val_loss: 0.0851 - val_accuracy: 1.0000\n",
            "Epoch 13/30\n",
            "18/18 - 8s - loss: 0.1113 - accuracy: 0.9778 - val_loss: 0.1685 - val_accuracy: 0.9333\n",
            "Epoch 14/30\n",
            "18/18 - 7s - loss: 0.0861 - accuracy: 0.9944 - val_loss: 0.0873 - val_accuracy: 1.0000\n",
            "Epoch 15/30\n",
            "18/18 - 7s - loss: 0.0628 - accuracy: 0.9942 - val_loss: 0.1392 - val_accuracy: 0.9667\n",
            "Epoch 16/30\n",
            "18/18 - 5s - loss: 0.0990 - accuracy: 0.9826 - val_loss: 0.0796 - val_accuracy: 1.0000\n",
            "Epoch 17/30\n",
            "18/18 - 4s - loss: 0.0914 - accuracy: 0.9778 - val_loss: 0.0590 - val_accuracy: 1.0000\n",
            "Epoch 18/30\n",
            "18/18 - 6s - loss: 0.0534 - accuracy: 0.9944 - val_loss: 0.1309 - val_accuracy: 0.9667\n",
            "Epoch 19/30\n",
            "18/18 - 4s - loss: 0.0457 - accuracy: 1.0000 - val_loss: 0.0316 - val_accuracy: 1.0000\n",
            "Epoch 20/30\n",
            "18/18 - 4s - loss: 0.0521 - accuracy: 0.9944 - val_loss: 0.0472 - val_accuracy: 1.0000\n",
            "Epoch 21/30\n",
            "18/18 - 3s - loss: 0.0863 - accuracy: 0.9778 - val_loss: 0.0154 - val_accuracy: 1.0000\n",
            "Epoch 22/30\n",
            "18/18 - 4s - loss: 0.0452 - accuracy: 1.0000 - val_loss: 0.1097 - val_accuracy: 0.9667\n",
            "Epoch 23/30\n",
            "18/18 - 4s - loss: 0.0508 - accuracy: 0.9944 - val_loss: 0.0392 - val_accuracy: 1.0000\n",
            "Epoch 24/30\n",
            "18/18 - 7s - loss: 0.0607 - accuracy: 0.9944 - val_loss: 0.0256 - val_accuracy: 1.0000\n",
            "Epoch 25/30\n",
            "18/18 - 1s - loss: 0.0449 - accuracy: 0.9944 - val_loss: 0.0444 - val_accuracy: 1.0000\n",
            "Epoch 26/30\n",
            "18/18 - 2s - loss: 0.0510 - accuracy: 0.9944 - val_loss: 0.0346 - val_accuracy: 1.0000\n",
            "Epoch 27/30\n",
            "18/18 - 1s - loss: 0.0329 - accuracy: 1.0000 - val_loss: 0.0564 - val_accuracy: 1.0000\n",
            "Epoch 28/30\n",
            "18/18 - 2s - loss: 0.0312 - accuracy: 1.0000 - val_loss: 0.0276 - val_accuracy: 1.0000\n",
            "Epoch 29/30\n",
            "18/18 - 2s - loss: 0.0427 - accuracy: 0.9944 - val_loss: 0.0664 - val_accuracy: 0.9667\n",
            "Epoch 30/30\n",
            "18/18 - 1s - loss: 0.0344 - accuracy: 0.9889 - val_loss: 0.0609 - val_accuracy: 1.0000\n"
          ],
          "name": "stdout"
        },
        {
          "output_type": "execute_result",
          "data": {
            "text/plain": [
              "<tensorflow.python.keras.callbacks.History at 0x7fd299fcbb00>"
            ]
          },
          "metadata": {
            "tags": []
          },
          "execution_count": 18
        }
      ]
    },
    {
      "cell_type": "markdown",
      "metadata": {
        "id": "u9Rm27v7Cl6d"
      },
      "source": [
        "#Prediction"
      ]
    },
    {
      "cell_type": "code",
      "metadata": {
        "id": "AshnNuBhCq1i"
      },
      "source": [
        "test_labels = test_batches.classes"
      ],
      "execution_count": null,
      "outputs": []
    },
    {
      "cell_type": "code",
      "metadata": {
        "id": "msNehRuaDgT6"
      },
      "source": [
        "predictions = model.predict(x=test_batches, steps=5, verbose=0)"
      ],
      "execution_count": null,
      "outputs": []
    },
    {
      "cell_type": "code",
      "metadata": {
        "id": "eKAxhs2wD9th",
        "outputId": "71a9fa8e-384b-4835-d1c6-d3fd85823d29",
        "colab": {
          "base_uri": "https://localhost:8080/",
          "height": 1000
        }
      },
      "source": [
        "print(predictions)"
      ],
      "execution_count": null,
      "outputs": [
        {
          "output_type": "stream",
          "text": [
            "[[9.99907970e-01 1.81986852e-05 1.14185386e-05 8.31906982e-06\n",
            "  6.76295031e-06 5.26625763e-06 1.50188625e-05 1.29211230e-06\n",
            "  2.20869988e-05 3.54457507e-06]\n",
            " [9.99764740e-01 4.97330475e-05 1.24770275e-04 1.25518391e-05\n",
            "  2.54034444e-06 1.78213008e-06 2.27403270e-05 5.41358190e-07\n",
            "  1.18345215e-05 8.72721012e-06]\n",
            " [9.99943495e-01 1.02443319e-05 4.07669768e-06 2.59417743e-06\n",
            "  2.22588847e-06 1.97174950e-06 4.29789634e-06 2.17091639e-07\n",
            "  3.33743219e-06 2.75765979e-05]\n",
            " [9.97976959e-01 1.30962511e-03 4.67506397e-05 4.97402689e-05\n",
            "  1.01239813e-04 3.53960495e-05 3.83031263e-04 4.16261264e-06\n",
            "  1.39273197e-05 7.91871498e-05]\n",
            " [9.99794781e-01 6.55109470e-05 5.60145490e-05 9.19256217e-06\n",
            "  6.74312616e-07 2.55389045e-06 1.12290845e-05 3.24747077e-07\n",
            "  6.57366490e-06 5.31644619e-05]\n",
            " [5.96624841e-06 9.98959184e-01 9.82636935e-04 4.61979107e-06\n",
            "  1.41901154e-07 3.83149796e-08 2.53536768e-06 1.55028567e-06\n",
            "  3.95551178e-05 3.84179430e-06]\n",
            " [5.77348619e-05 9.97837484e-01 1.93230971e-03 5.29086901e-05\n",
            "  5.60771980e-07 1.32886186e-07 1.02190063e-06 7.83198743e-07\n",
            "  9.52457194e-05 2.19350532e-05]\n",
            " [3.19325909e-06 9.96406376e-01 3.52200959e-03 2.73286496e-05\n",
            "  1.38922232e-07 8.74872441e-08 1.08019390e-06 7.19391437e-07\n",
            "  3.41323175e-05 4.93078778e-06]\n",
            " [8.91397633e-07 9.99843597e-01 6.41833540e-05 9.20376624e-06\n",
            "  5.28325529e-07 2.35107791e-07 4.17812544e-06 7.52144786e-07\n",
            "  6.69909277e-05 9.46024920e-06]\n",
            " [2.11145539e-06 9.99277651e-01 6.38888392e-04 1.61246521e-06\n",
            "  8.37773797e-08 1.33889078e-08 1.29828607e-07 2.36027589e-07\n",
            "  6.06195317e-05 1.86159541e-05]\n",
            " [1.40882321e-06 3.04088953e-05 9.99190271e-01 7.30123953e-04\n",
            "  3.74597857e-06 7.04620806e-09 1.89693892e-05 5.52513166e-06\n",
            "  3.02043100e-06 1.65276870e-05]\n",
            " [4.09996355e-05 1.62411539e-03 9.77828205e-01 8.13836232e-04\n",
            "  3.26748923e-05 2.13361272e-06 1.89798046e-02 5.88272000e-04\n",
            "  2.49287514e-05 6.49938665e-05]\n",
            " [8.36342861e-06 3.36779805e-04 9.93821859e-01 6.53320982e-04\n",
            "  2.57492866e-05 3.32229831e-07 5.12548909e-03 1.22495271e-06\n",
            "  9.05711147e-07 2.60038087e-05]\n",
            " [7.99389818e-06 2.90314310e-05 9.94603097e-01 1.44842779e-03\n",
            "  7.65812001e-05 4.65628233e-07 3.05270427e-03 5.67832671e-04\n",
            "  7.49530227e-05 1.38985488e-04]\n",
            " [3.46522438e-06 4.86433157e-04 9.99253333e-01 1.86141515e-05\n",
            "  8.96118217e-06 4.99642780e-08 2.13554318e-04 4.10330898e-07\n",
            "  1.25275583e-05 2.64599180e-06]\n",
            " [5.68577816e-05 2.32892362e-05 1.61046904e-04 9.97760653e-01\n",
            "  1.23008670e-06 1.79811893e-03 1.02986924e-05 1.30777389e-05\n",
            "  1.74625966e-04 8.17895113e-07]\n",
            " [3.42618478e-05 9.89843393e-05 1.23947440e-02 9.87302780e-01\n",
            "  4.45760946e-07 1.29584689e-04 1.45311124e-05 1.34755164e-05\n",
            "  3.32886202e-06 7.85242901e-06]\n",
            " [2.61722424e-04 2.25970231e-04 5.14747517e-04 9.92549181e-01\n",
            "  9.46297405e-06 5.28588658e-03 5.42270891e-06 1.30143080e-05\n",
            "  1.05099462e-03 8.35767059e-05]\n",
            " [1.31443335e-06 5.72117733e-06 5.44280512e-04 9.99418259e-01\n",
            "  9.58634132e-08 2.24492705e-05 6.64082506e-07 4.97399469e-07\n",
            "  5.72592035e-06 1.02367096e-06]\n",
            " [7.33219276e-05 3.56858254e-05 2.46638752e-04 7.77239680e-01\n",
            "  2.80055178e-06 2.20447138e-01 1.29028433e-06 1.87667436e-04\n",
            "  5.07000514e-05 1.71502493e-03]\n",
            " [8.84616838e-06 1.72287150e-06 5.27130305e-06 6.36111281e-07\n",
            "  9.97579277e-01 1.48030219e-03 8.55612045e-04 6.84547058e-06\n",
            "  2.29201742e-05 3.85024141e-05]\n",
            " [2.87977709e-05 5.12899396e-06 2.86878530e-05 8.23870141e-06\n",
            "  9.94071543e-01 2.25713290e-03 3.38535896e-03 8.99201550e-05\n",
            "  4.08533342e-05 8.42990703e-05]\n",
            " [6.81434831e-05 1.86656780e-06 5.61141642e-04 5.19602145e-05\n",
            "  9.81923401e-01 3.11230286e-03 1.35045694e-02 2.41562775e-05\n",
            "  2.61299167e-04 4.91183600e-04]\n",
            " [6.54945097e-06 3.00924683e-07 2.14229894e-05 2.13994663e-05\n",
            "  9.87928689e-01 9.72454902e-04 1.10056009e-02 2.72963043e-05\n",
            "  6.87222837e-06 9.38202265e-06]\n",
            " [5.10706229e-07 1.95524965e-08 1.11063594e-06 1.30337980e-07\n",
            "  9.99499679e-01 2.78539665e-04 2.16483604e-04 3.37662101e-07\n",
            "  1.16396768e-06 1.94427730e-06]\n",
            " [1.10659057e-05 1.02498973e-07 2.80285690e-07 2.31634567e-06\n",
            "  1.32311597e-01 8.67163122e-01 4.84139746e-05 4.81770039e-05\n",
            "  8.51955556e-05 3.29826580e-04]\n",
            " [3.36566040e-06 2.71774951e-07 1.56815133e-07 1.89455866e-04\n",
            "  1.66468462e-03 9.98027265e-01 4.27184023e-06 1.02549639e-05\n",
            "  1.09216107e-05 8.93709075e-05]\n",
            " [7.34167543e-06 1.22745541e-06 1.68236136e-06 6.73042436e-04\n",
            "  7.15185364e-04 9.98450279e-01 2.56239873e-05 1.11202444e-05\n",
            "  7.43143682e-05 4.00367535e-05]\n",
            " [3.26074020e-04 1.73902168e-04 3.35095356e-05 2.35643201e-02\n",
            "  4.65085953e-02 9.28241014e-01 1.87676211e-04 1.17491370e-04\n",
            "  6.12921838e-04 2.34515188e-04]\n",
            " [1.53196670e-05 2.26287568e-07 6.14817793e-07 3.94643546e-04\n",
            "  7.02123623e-04 9.98710632e-01 1.38914984e-05 2.12150462e-06\n",
            "  1.51932225e-04 8.39336371e-06]\n",
            " [1.36404287e-03 1.38173311e-03 1.00178637e-01 7.36371102e-03\n",
            "  3.09866350e-02 3.71698756e-03 7.34847426e-01 7.62851462e-02\n",
            "  3.38587798e-02 1.00168865e-02]\n",
            " [1.55438215e-06 7.56569671e-06 1.93705852e-03 1.57460931e-06\n",
            "  1.83093990e-03 1.72299588e-06 9.96193767e-01 2.21732480e-05\n",
            "  1.18845605e-06 2.45226647e-06]\n",
            " [1.73982175e-03 2.90282245e-04 2.19090790e-01 3.85022792e-03\n",
            "  9.29833874e-02 3.65315960e-03 6.71241343e-01 5.50376344e-03\n",
            "  9.16578050e-04 7.30645843e-04]\n",
            " [1.66806840e-05 4.53790699e-06 5.32073714e-03 9.55705673e-06\n",
            "  1.46365270e-03 6.23514643e-05 9.92924690e-01 1.48642837e-04\n",
            "  4.59050279e-05 3.24408575e-06]\n",
            " [4.00441844e-04 8.47149786e-05 8.38202331e-03 3.48406640e-04\n",
            "  3.25773731e-02 9.81657766e-04 9.54741716e-01 1.99468597e-03\n",
            "  7.89099722e-05 4.10044391e-04]\n",
            " [1.42006917e-04 6.20908104e-04 7.04250718e-03 5.62605681e-03\n",
            "  1.17695192e-03 2.23223586e-04 4.37225390e-04 5.33069670e-01\n",
            "  4.49340671e-01 2.32081162e-03]\n",
            " [1.46449963e-06 2.21280516e-06 1.03685644e-03 6.59345533e-05\n",
            "  9.58273071e-04 1.10456494e-05 2.16003522e-04 9.95881200e-01\n",
            "  1.73346093e-03 9.36524666e-05]\n",
            " [1.57869945e-04 4.90538543e-04 7.90488794e-02 1.33991949e-02\n",
            "  8.82933266e-04 4.67371312e-04 2.89049931e-03 9.00509000e-01\n",
            "  1.39442889e-03 7.59232207e-04]\n",
            " [2.76261676e-06 3.58992293e-06 4.14676004e-04 4.83516169e-06\n",
            "  6.32872479e-06 1.87327737e-06 6.94003984e-06 9.98579502e-01\n",
            "  9.59948462e-04 1.96528272e-05]\n",
            " [1.15150295e-03 4.81685682e-04 2.58751353e-03 8.08459241e-04\n",
            "  5.00243269e-02 8.77166225e-04 2.17872718e-03 3.35247427e-01\n",
            "  6.00740671e-01 5.90256089e-03]\n",
            " [3.27213456e-06 1.54394394e-04 7.79893016e-05 4.01407488e-05\n",
            "  2.11231927e-05 5.19559671e-06 4.20569876e-07 1.38790475e-03\n",
            "  9.97655511e-01 6.54020463e-04]\n",
            " [2.57532171e-04 8.40583307e-05 1.26030098e-03 5.38015622e-04\n",
            "  1.50475139e-03 1.51385684e-04 1.82284115e-04 8.22080001e-02\n",
            "  9.12585676e-01 1.22801040e-03]\n",
            " [8.28076227e-05 1.24441576e-04 2.39340728e-03 1.02791074e-03\n",
            "  1.78400415e-03 1.56045702e-04 6.67873828e-05 6.77036028e-03\n",
            "  9.84457195e-01 3.13709350e-03]\n",
            " [3.07454411e-06 6.68912617e-06 1.13914311e-05 9.11148436e-06\n",
            "  1.44990317e-05 7.82387178e-06 3.69191838e-07 3.12103220e-04\n",
            "  9.99610364e-01 2.45070169e-05]\n",
            " [1.30470420e-04 1.23008965e-02 2.51298794e-03 1.70998927e-03\n",
            "  2.84471782e-04 4.16153198e-05 7.09045635e-05 1.25928685e-01\n",
            "  8.49215686e-01 7.80425733e-03]\n",
            " [4.43604549e-05 3.70138223e-05 4.58232216e-06 4.78399634e-05\n",
            "  7.25927763e-04 4.10610024e-04 4.00512499e-06 4.73862128e-05\n",
            "  8.23822047e-04 9.97854412e-01]\n",
            " [8.90586991e-04 2.65139650e-04 4.86360630e-03 4.50516725e-03\n",
            "  2.76033883e-03 4.42838715e-03 2.65056326e-04 1.55687588e-03\n",
            "  3.97594035e-01 5.82870781e-01]\n",
            " [3.13964701e-04 2.22514194e-04 2.69785814e-04 3.42328494e-05\n",
            "  9.21714026e-03 8.76264356e-04 5.47206611e-04 1.68818122e-04\n",
            "  4.44504339e-03 9.83905017e-01]\n",
            " [7.43059732e-04 1.87608050e-04 3.47952708e-04 8.38607200e-04\n",
            "  1.96068548e-03 2.17008434e-04 1.08727392e-04 8.90582232e-05\n",
            "  1.37780723e-03 9.94129539e-01]\n",
            " [1.50213436e-05 2.07497487e-05 2.58430646e-05 5.99290024e-06\n",
            "  4.50582767e-04 1.80798364e-04 1.50254700e-05 2.42412762e-06\n",
            "  1.96153924e-04 9.99087453e-01]]\n"
          ],
          "name": "stdout"
        }
      ]
    },
    {
      "cell_type": "code",
      "metadata": {
        "id": "PNNCLTWnD6pZ"
      },
      "source": [
        "cm = confusion_matrix(y_true=test_labels, y_pred=predictions.argmax(axis=1))"
      ],
      "execution_count": null,
      "outputs": []
    },
    {
      "cell_type": "code",
      "metadata": {
        "id": "kif14CAZD2Qa"
      },
      "source": [
        "def plot_confusion_matrix(cm, classes,\n",
        "                          normalize=False,\n",
        "                          title='Confusion matrix',\n",
        "                          cmap=plt.cm.Blues):\n",
        "    \"\"\"\n",
        "    This function prints and plots the confusion matrix.\n",
        "    Normalization can be applied by setting `normalize=True`.\n",
        "    \"\"\"\n",
        "    plt.imshow(cm, interpolation='nearest', cmap=cmap)\n",
        "    plt.title(title)\n",
        "    plt.colorbar()\n",
        "    tick_marks = np.arange(len(classes))\n",
        "    plt.xticks(tick_marks, classes, rotation=45)\n",
        "    plt.yticks(tick_marks, classes)\n",
        "\n",
        "    if normalize:\n",
        "        cm = cm.astype('float') / cm.sum(axis=1)[:, np.newaxis]\n",
        "        print(\"Normalized confusion matrix\")\n",
        "    else:\n",
        "        print('Confusion matrix, without normalization')\n",
        "\n",
        "    print(cm)\n",
        "\n",
        "    thresh = cm.max() / 2.\n",
        "    for i, j in itertools.product(range(cm.shape[0]), range(cm.shape[1])):\n",
        "        plt.text(j, i, cm[i, j],\n",
        "                 horizontalalignment=\"center\",\n",
        "                 color=\"white\" if cm[i, j] > thresh else \"black\")\n",
        "\n",
        "    plt.tight_layout()\n",
        "    plt.ylabel('True label')\n",
        "    plt.xlabel('Predicted label')"
      ],
      "execution_count": null,
      "outputs": []
    },
    {
      "cell_type": "code",
      "metadata": {
        "id": "Ou3rJE78ER35",
        "outputId": "21722b46-261d-4b43-89d7-b3e7f8dc1efc",
        "colab": {
          "base_uri": "https://localhost:8080/",
          "height": 498
        }
      },
      "source": [
        "# Train the model for more epochs to see better results\n",
        "cm_plot_labels = ['0','1','2','3','4','5','6','7','8','9']\n",
        "plot_confusion_matrix(cm=cm, classes=cm_plot_labels, title='Confusion Matrix')"
      ],
      "execution_count": null,
      "outputs": [
        {
          "output_type": "stream",
          "text": [
            "Confusion matrix, without normalization\n",
            "[[5 0 0 0 0 0 0 0 0 0]\n",
            " [0 5 0 0 0 0 0 0 0 0]\n",
            " [0 0 5 0 0 0 0 0 0 0]\n",
            " [0 0 0 5 0 0 0 0 0 0]\n",
            " [0 0 0 0 5 0 0 0 0 0]\n",
            " [0 0 0 0 0 5 0 0 0 0]\n",
            " [0 0 0 0 0 0 5 0 0 0]\n",
            " [0 0 0 0 0 0 0 4 1 0]\n",
            " [0 0 0 0 0 0 0 0 5 0]\n",
            " [0 0 0 0 0 0 0 0 0 5]]\n"
          ],
          "name": "stdout"
        },
        {
          "output_type": "display_data",
          "data": {
            "image/png": "[encoded data removed]",
            "text/plain": [
              "<Figure size 432x288 with 2 Axes>"
            ]
          },
          "metadata": {
            "tags": [],
            "needs_background": "light"
          }
        }
      ]
    }
  ]
}